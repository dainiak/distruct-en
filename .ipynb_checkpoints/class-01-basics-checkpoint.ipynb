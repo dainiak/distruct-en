{
 "cells": [
  {
   "cell_type": "markdown",
   "metadata": {
    "slideshow": {
     "slide_type": "slide"
    }
   },
   "source": [
    "# Tuples, sets and Introduction to Python data structures"
   ]
  },
  {
   "cell_type": "markdown",
   "metadata": {
    "slideshow": {
     "slide_type": "subslide"
    }
   },
   "source": [
    "A *tuple* is an ordered collection of (not necessarily distinct) elements:\n",
    "$$(1, 4, 1, 2, 2)$$\n",
    "\n",
    "Approximate synonym: *finite sequence*."
   ]
  },
  {
   "cell_type": "code",
   "execution_count": 60,
   "metadata": {
    "slideshow": {
     "slide_type": "subslide"
    }
   },
   "outputs": [
    {
     "name": "stdout",
     "output_type": "stream",
     "text": [
      "(1, 4, 1, 2, 2)\n",
      "5\n",
      "[1, 4, 1, 2, 2]\n",
      "5\n"
     ]
    }
   ],
   "source": [
    "# In Python:\n",
    "t = (1, 4, 1, 2, 2)\n",
    "print(t)\n",
    "print( len(t) )\n",
    "\n",
    "t = [1, 4, 1, 2, 2]\n",
    "print(t)\n",
    "print( len(t) )"
   ]
  },
  {
   "cell_type": "markdown",
   "metadata": {
    "slideshow": {
     "slide_type": "subslide"
    }
   },
   "source": [
    "A *set* is an unordered collection of distinct elements.\n",
    "\n",
    "Synonyms: *family*, *collection*"
   ]
  },
  {
   "cell_type": "markdown",
   "metadata": {
    "slideshow": {
     "slide_type": "subslide"
    }
   },
   "source": [
    "### Notation\n",
    "- $\\{1,\\,2,\\,3,\\,4\\}$\n",
    "- $\\{1,\\,3,\\,5,\\,7,\\,\\dots,\\,29\\}$\n",
    "- $\\{1,\\,2,\\,3,\\,\\dots\\}$\n",
    "- $\\{x \\text{ is a positive multiple of three}\\}$\n",
    "- $\\mathbb{N}$, $\\mathbb{Z}$, $\\mathbb{Q}$, $\\mathbb{R}$, $\\mathbb{C}$, $\\mathbb{P}$\n",
    "- $\\{x\\in\\mathbb{N}\\mid x^2+3x \\text{ is prime}\\}$  — a “set builder notation”, or a “predicate notation”"
   ]
  },
  {
   "cell_type": "markdown",
   "metadata": {},
   "source": [
    "### Inclusion\n",
    "- $x\\in A$ if $A=\\{\\ldots,\\,x,\\,\\ldots\\}$\n",
    "- $B\\subseteq A$ if every element of $B$ also belongs to $A$\n",
    "- $\\subsetneq,\\,\\subset,\\,\\subseteq$\n",
    "- $\\emptyset\\subseteq A$ for any set $A$\n",
    "\n",
    "### Cardinality\n",
    "Denoted by $|A|$ or $\\text{#} A$ — the number of (distinct) elements in $A$."
   ]
  },
  {
   "cell_type": "code",
   "execution_count": null,
   "metadata": {},
   "outputs": [],
   "source": [
    "# How we do that in Python:\n",
    "A = {4, 2, 3, 4, 1, 3}\n",
    "print(A)\n",
    "print( len(A) )\n",
    "print( 2 in A )\n",
    "print( \"Alex\" in A )"
   ]
  },
  {
   "cell_type": "code",
   "execution_count": null,
   "metadata": {},
   "outputs": [],
   "source": [
    "# Set builder notation (comprehensions)\n",
    "A = {1, 2, 3, 4}\n",
    "B = {x**2 + 1 for x in A}\n",
    "print(B)\n",
    "C = {x for x in B if x < 15}\n",
    "print(C)"
   ]
  },
  {
   "cell_type": "markdown",
   "metadata": {
    "slideshow": {
     "slide_type": "subslide"
    }
   },
   "source": [
    "### Operations\n",
    "- Union: $A\\cup B$\n",
    "- Disjoint union: $A\\sqcup B$\n",
    "- Intersection: $A \\cap B$\n",
    "- Difference: $A\\setminus B$\n",
    "- Symmetric difference (delta): $A\\Delta B$\n",
    "- Power set: $2^A$ — set of all subsets of $A$\n",
    "- Set of subsets of fixed size $k$: $\\binom{A}{k}$"
   ]
  },
  {
   "cell_type": "code",
   "execution_count": null,
   "metadata": {
    "slideshow": {
     "slide_type": "subslide"
    }
   },
   "outputs": [],
   "source": [
    "# How we do that in Python:\n",
    "A = {4, 2, 3, 4, 1, 3}\n",
    "print(A)\n",
    "B = {3, 4, 5, 6}\n",
    "print(B)\n",
    "print(A | B)\n",
    "print(A & B)\n",
    "print(A - B)"
   ]
  },
  {
   "cell_type": "code",
   "execution_count": null,
   "metadata": {
    "hideOutput": false,
    "slideshow": {
     "slide_type": "subslide"
    }
   },
   "outputs": [],
   "source": [
    "from itertools import combinations\n",
    "print(set(combinations(A, 2)))"
   ]
  },
  {
   "cell_type": "markdown",
   "metadata": {
    "slideshow": {
     "slide_type": "subslide"
    }
   },
   "source": [
    "### Cartesian product\n",
    "$$A\\times B= \\{(a,\\,b)\\mid a\\in A,\\,b\\in B\\}$$"
   ]
  },
  {
   "cell_type": "code",
   "execution_count": null,
   "metadata": {
    "slideshow": {
     "slide_type": "fragment"
    }
   },
   "outputs": [],
   "source": [
    "from itertools import product\n",
    "print(list(product({1, 2, 3}, {4, 5})))"
   ]
  },
  {
   "cell_type": "markdown",
   "metadata": {
    "slideshow": {
     "slide_type": "subslide"
    }
   },
   "source": [
    "### Cartesian power of a set\n",
    "$$A^n = \\underbrace{A\\times A\\times\\dots\\times A}_{n times}$$"
   ]
  },
  {
   "cell_type": "code",
   "execution_count": null,
   "metadata": {
    "slideshow": {
     "slide_type": "fragment"
    }
   },
   "outputs": [],
   "source": [
    "print(list(product({0, 1}, repeat=3)))"
   ]
  },
  {
   "cell_type": "markdown",
   "metadata": {
    "slideshow": {
     "slide_type": "subslide"
    }
   },
   "source": [
    "### Sums and products over sets and sequences\n",
    "$$\\sum_{x \\in S} x^2\\quad\\quad \\sum_{i=1}^n a_i\\quad\\quad \\sum_{0\\le k\\le n} k\\quad\\quad \\prod_{0\\le k\\le n} k$$"
   ]
  },
  {
   "cell_type": "code",
   "execution_count": 61,
   "metadata": {
    "slideshow": {
     "slide_type": "subslide"
    }
   },
   "outputs": [
    {
     "name": "stdout",
     "output_type": "stream",
     "text": [
      "14\n"
     ]
    }
   ],
   "source": [
    "# Sums in Python\n",
    "S = {1, 2, 3}\n",
    "print( sum(x**2 for x in S) )"
   ]
  },
  {
   "cell_type": "code",
   "execution_count": 63,
   "metadata": {
    "slideshow": {
     "slide_type": "subslide"
    }
   },
   "outputs": [
    {
     "name": "stdout",
     "output_type": "stream",
     "text": [
      "24\n"
     ]
    }
   ],
   "source": [
    "# Products in Python\n",
    "from functools import reduce\n",
    "from operator import mul\n",
    "\n",
    "S = {1, 2, 3, 4}\n",
    "print( reduce(mul, S) )"
   ]
  },
  {
   "cell_type": "code",
   "execution_count": 67,
   "metadata": {
    "slideshow": {
     "slide_type": "subslide"
    }
   },
   "outputs": [],
   "source": [
    "def prod(S):\n",
    "    return reduce(mul, S)"
   ]
  },
  {
   "cell_type": "code",
   "execution_count": 68,
   "metadata": {
    "slideshow": {
     "slide_type": "fragment"
    }
   },
   "outputs": [
    {
     "name": "stdout",
     "output_type": "stream",
     "text": [
      "24\n"
     ]
    }
   ],
   "source": [
    "S = {1, 2, 3, 4}\n",
    "print( prod(S) )"
   ]
  },
  {
   "cell_type": "markdown",
   "metadata": {
    "slideshow": {
     "slide_type": "subslide"
    }
   },
   "source": [
    "### Inclusion-exclusion principle\n",
    "$$\\begin{align}|A\\cup B\\cup C|&=|A|+|B|+|C|\\\\&-|A\\cap B|-|A\\cap C|-|B\\cap C|\\\\&+|A\\cup B\\cup C|\\end{align}$$"
   ]
  },
  {
   "cell_type": "code",
   "execution_count": null,
   "metadata": {
    "hideCode": true,
    "slideshow": {
     "slide_type": "-"
    }
   },
   "outputs": [],
   "source": [
    "import matplotlib.pyplot as plt\n",
    "from matplotlib_venn import venn3\n",
    "v = venn3(subsets=(1, 1, 1, 1, 1, 1, 1), set_labels = ('$A$', '$B$', '$C$'))\n",
    "for t in ['111', '100', '010', '001', '110', '101', '011']:\n",
    "    v.get_label_by_id(t).set_text(None)\n",
    "plt.show()"
   ]
  },
  {
   "cell_type": "markdown",
   "metadata": {
    "slideshow": {
     "slide_type": "slide"
    }
   },
   "source": [
    "# Counting\n",
    "Superficially, combinatorics is the branch of math devoted to counting, i.e. finding the cardinalities of properly defined finite sets."
   ]
  },
  {
   "cell_type": "markdown",
   "metadata": {
    "slideshow": {
     "slide_type": "subslide"
    }
   },
   "source": [
    "### A bunch of problems\n",
    "- How many five-digit numbers are there?\n",
    "- How many "
   ]
  },
  {
   "cell_type": "code",
   "execution_count": null,
   "metadata": {
    "slideshow": {
     "slide_type": "fragment"
    }
   },
   "outputs": [],
   "source": []
  }
 ],
 "metadata": {
  "celltoolbar": "Slideshow",
  "kernelspec": {
   "display_name": "Python 3",
   "language": "python",
   "name": "python3"
  },
  "language_info": {
   "codemirror_mode": {
    "name": "ipython",
    "version": 3
   },
   "file_extension": ".py",
   "mimetype": "text/x-python",
   "name": "python",
   "nbconvert_exporter": "python",
   "pygments_lexer": "ipython3",
   "version": "3.6.7"
  }
 },
 "nbformat": 4,
 "nbformat_minor": 2
}
