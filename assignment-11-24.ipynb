{
 "cells": [
  {
   "cell_type": "markdown",
   "metadata": {},
   "source": [
    "# Discrete Structures: assignment for November 24"
   ]
  },
  {
   "cell_type": "markdown",
   "metadata": {},
   "source": [
    "## Problem 1.\n",
    "### Problem 1.1.\n",
    "Fill in the gaps in the following code to count the 5-letter words that contain a subword `bob`."
   ]
  },
  {
   "cell_type": "code",
   "execution_count": null,
   "metadata": {},
   "outputs": [],
   "source": [
    "from itertools import product\n",
    "# Make a list of all the English letters (lists are faster than sets in Python,\n",
    "# so if you are sure you do not want to get rid of repetitions, use lists instead of sets\n",
    "alphabet = list('abcdefghijklmnopqrstuvwxyz')\n",
    "# Lots of printing here for you to see how the objects we construct look like in Python:\n",
    "print(alphabet)\n",
    "# (feel free to remove any print statements if you don’t need them)\n",
    "\n",
    "# Make a list of all words of length 5, each word being formally a tuple, element\n",
    "# of the 5-th Cartesian power of the alphabet\n",
    "all_words_as_tuples = list(product(…, repeat=…))\n",
    "# Print the first five elements of the constructed list to let you see what’s happening:\n",
    "print(all_words_as_tuples[:5])\n",
    "\n",
    "# Now convert all the words from their tuple representation to normal strings\n",
    "all_words_as_strings = [''.join(t) for t in all_words_as_tuples]\n",
    "# Look at how how the list looks like now and compare that to original list of tuples:\n",
    "print(all_words_as_strings[:5])\n",
    "\n",
    "# Now construct a list of only those of the words that satisfy the conditions:\n",
    "filtered_words = [word for word in all_words_as_strings if … in word]\n",
    "print(filtered_words[:5])\n",
    "\n",
    "#Finally print the desired number of words:\n",
    "print(…)"
   ]
  },
  {
   "cell_type": "markdown",
   "metadata": {},
   "source": [
    "### Problem 1.2.\n",
    "Below provide a mathematical solution to the same counting problem that you solved in the above Python code cell."
   ]
  },
  {
   "cell_type": "markdown",
   "metadata": {},
   "source": [
    "(Text of your solution goes here. Please use $\\LaTeX$ notation where possible.)"
   ]
  },
  {
   "cell_type": "markdown",
   "metadata": {},
   "source": [
    "### Problem 1.3.\n",
    "In the cell below print the result of the calculation that your mathematical reasoning suggests. Make sure that this number coincides with the one that you obtained while solving Problem 1.1.\n",
    "(The formula provided below is just for reference, so that you can be sure you can compute powers in Python:))"
   ]
  },
  {
   "cell_type": "code",
   "execution_count": 25,
   "metadata": {},
   "outputs": [
    {
     "name": "stdout",
     "output_type": "stream",
     "text": [
      "1025\n"
     ]
    }
   ],
   "source": [
    "print(2**10 + 1)"
   ]
  },
  {
   "cell_type": "markdown",
   "metadata": {},
   "source": [
    "## Problem 2.\n",
    "### Problem 2.1.\n",
    "Sketch a decision tree that corresponds to the solution of the following combinatorial problem: “how many $k$‑permutations of objects $\\{a_1,\\,\\dots,\\,a_n\\}$ are there that do not contain $a_1$ and $a_2$ simultaneously (it is okay to contain one of the two objects at a time).”"
   ]
  },
  {
   "cell_type": "markdown",
   "metadata": {},
   "source": [
    "*(Paste an image or a link to an image here. If you make a hand drawing, please either scan it or make a photo using Microsoft Lens, Dropbox or other programs that enhance the quality of document photos. If you make a digital drawing, please use a pen, not a mouse — otherwise the image may be sloppy.)*"
   ]
  },
  {
   "cell_type": "markdown",
   "metadata": {},
   "source": [
    "### Problem 2.2.\n",
    "Provide a mathematical reasoning and obtain an expression for the quantity mentioned in the Problem 2.1 as a formula depending on $n$ and $k$."
   ]
  },
  {
   "cell_type": "markdown",
   "metadata": {},
   "source": [
    "*(Your solution goes here. Please use $\\LaTeX$ notation for writing formulae.)*"
   ]
  },
  {
   "cell_type": "markdown",
   "metadata": {},
   "source": [
    "### Problem 2.3.\n",
    "Write a Python program to check your solution for $n=13$ and $k=6$. Assume that $\\{a_1,\\,\\dots,\\,a_n\\}=\\{1,\\,2,\\,\\dots,\\,n\\}$. Use `permutations` function from `itertools` package to generate all the relevant permutations, and use `in` keyword if you need to check the presence of an element within any combination or permutation."
   ]
  },
  {
   "cell_type": "markdown",
   "metadata": {},
   "source": [
    "## Problem 3.\n",
    "Sort the following numbers ascendingly: $A_n^k,\\,\\bar{A}_n^k,\\,C_n^k,\\,\\bar{C}_n^k$. Explain your answer."
   ]
  },
  {
   "cell_type": "markdown",
   "metadata": {},
   "source": [
    "*(Your solution goes here.)*"
   ]
  }
 ],
 "metadata": {
  "kernelspec": {
   "display_name": "Python 3",
   "language": "python",
   "name": "python3"
  },
  "language_info": {
   "codemirror_mode": {
    "name": "ipython",
    "version": 3
   },
   "file_extension": ".py",
   "mimetype": "text/x-python",
   "name": "python",
   "nbconvert_exporter": "python",
   "pygments_lexer": "ipython3",
   "version": "3.6.7"
  }
 },
 "nbformat": 4,
 "nbformat_minor": 2
}
