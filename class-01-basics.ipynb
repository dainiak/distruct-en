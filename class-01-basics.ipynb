{
 "cells": [
  {
   "cell_type": "markdown",
   "metadata": {
    "slideshow": {
     "slide_type": "slide"
    }
   },
   "source": [
    "# Tuples, sets and Introduction to Python data structures"
   ]
  },
  {
   "cell_type": "markdown",
   "metadata": {
    "slideshow": {
     "slide_type": "subslide"
    }
   },
   "source": [
    "A *tuple* is an ordered collection of (not necessarily distinct) elements:\n",
    "$$(1, 4, 1, 2, 2)$$\n",
    "\n",
    "Approximate synonym: *finite sequence*.\n",
    "\n",
    "A *string* / *word* is a finite sequence of elements of some **finite predefined alphabet**."
   ]
  },
  {
   "cell_type": "code",
   "execution_count": 133,
   "metadata": {
    "slideshow": {
     "slide_type": "subslide"
    }
   },
   "outputs": [
    {
     "name": "stdout",
     "output_type": "stream",
     "text": [
      "(1, 4, 1, 2, 2)\n",
      "5\n",
      "[1, 4, 1, 2, 2]\n",
      "5\n"
     ]
    }
   ],
   "source": [
    "# Tuples in Python:\n",
    "t = (1, 4, 1, 2, 2)\n",
    "print(t)\n",
    "print( len(t) )\n",
    "\n",
    "# For now, you can consider lists to be equivalent of tuples\n",
    "t = [1, 4, 1, 2, 2]\n",
    "print(t)\n",
    "print( len(t) )"
   ]
  },
  {
   "cell_type": "markdown",
   "metadata": {
    "slideshow": {
     "slide_type": "subslide"
    }
   },
   "source": [
    "A *set* is an unordered collection of distinct elements.\n",
    "\n",
    "Synonyms: *family*, *collection*"
   ]
  },
  {
   "cell_type": "markdown",
   "metadata": {
    "slideshow": {
     "slide_type": "subslide"
    }
   },
   "source": [
    "### Notation\n",
    "- $\\{1,\\,2,\\,3,\\,4\\}$\n",
    "- $\\{1,\\,3,\\,5,\\,7,\\,\\dots,\\,29\\}$\n",
    "- $\\{1,\\,2,\\,3,\\,\\dots\\}$\n",
    "- $\\{x \\text{ is a positive multiple of three}\\}$\n",
    "- $\\mathbb{N}$, $\\mathbb{Z}$, $\\mathbb{Q}$, $\\mathbb{R}$, $\\mathbb{C}$, $\\mathbb{P}$\n",
    "- $\\{x\\in\\mathbb{N}\\mid x^2+3x \\text{ is prime}\\}$  — a “set builder notation”, or a “predicate notation”"
   ]
  },
  {
   "cell_type": "markdown",
   "metadata": {
    "slideshow": {
     "slide_type": "subslide"
    }
   },
   "source": [
    "### Inclusion\n",
    "- $x\\in A$ if $A=\\{\\ldots,\\,x,\\,\\ldots\\}$\n",
    "- $B\\subseteq A$ if every element of $B$ also belongs to $A$\n",
    "- $\\subsetneq,\\,\\subset,\\,\\subseteq$\n",
    "- $\\supsetneq,\\,\\supset,\\,\\supseteq$\n",
    "\n",
    "### Empty set\n",
    "- $x\\notin\\emptyset$ for any $x$\n",
    "- $\\emptyset\\subseteq A$ for any set $A$\n",
    "\n",
    "### Cardinality\n",
    "Denoted by $|A|$ or $\\text{#} A$ — the number of (distinct) elements in $A$."
   ]
  },
  {
   "cell_type": "code",
   "execution_count": 134,
   "metadata": {
    "slideshow": {
     "slide_type": "subslide"
    }
   },
   "outputs": [
    {
     "name": "stdout",
     "output_type": "stream",
     "text": [
      "{1, 2, 3, 4}\n"
     ]
    }
   ],
   "source": [
    "# How we do that in Python:\n",
    "A = {4, 2, 3, 4, 1, 3}\n",
    "print(A)"
   ]
  },
  {
   "cell_type": "code",
   "execution_count": 135,
   "metadata": {
    "slideshow": {
     "slide_type": "subslide"
    }
   },
   "outputs": [
    {
     "name": "stdout",
     "output_type": "stream",
     "text": [
      "4\n"
     ]
    }
   ],
   "source": [
    "# Cardinality is (slightly incorrectly from maths point of view called “len[gth]”):\n",
    "A = {4, 2, 3, 4, 1, 3}\n",
    "print( len(A) )"
   ]
  },
  {
   "cell_type": "code",
   "execution_count": 136,
   "metadata": {
    "slideshow": {
     "slide_type": "subslide"
    }
   },
   "outputs": [
    {
     "name": "stdout",
     "output_type": "stream",
     "text": [
      "True\n",
      "False\n"
     ]
    }
   ],
   "source": [
    "# Checking inclusion\n",
    "A = {1, 2, 3, 4}\n",
    "print( 2 in A )\n",
    "print( \"Alex\" in A )"
   ]
  },
  {
   "cell_type": "code",
   "execution_count": 137,
   "metadata": {
    "slideshow": {
     "slide_type": "subslide"
    }
   },
   "outputs": [
    {
     "name": "stdout",
     "output_type": "stream",
     "text": [
      "True\n",
      "True\n",
      "False\n",
      "False\n"
     ]
    }
   ],
   "source": [
    "# Checking if one set is subset of the other:\n",
    "print( {1, 2} <= {1, 2, 3} )\n",
    "print( {1, 2, 3} == {1, 2, 3} )\n",
    "print( {1, 2, 3} < {1, 2, 3} )\n",
    "print( {1, 2, 3} <= {1, 2} )"
   ]
  },
  {
   "cell_type": "code",
   "execution_count": 138,
   "metadata": {
    "slideshow": {
     "slide_type": "subslide"
    }
   },
   "outputs": [
    {
     "name": "stdout",
     "output_type": "stream",
     "text": [
      "0\n"
     ]
    }
   ],
   "source": [
    "# Empty set:\n",
    "B = set()\n",
    "print( len(B) )"
   ]
  },
  {
   "cell_type": "code",
   "execution_count": 139,
   "metadata": {
    "slideshow": {
     "slide_type": "subslide"
    }
   },
   "outputs": [
    {
     "name": "stdout",
     "output_type": "stream",
     "text": [
      "{17, 2, 10, 5}\n",
      "{2, 10, 5}\n"
     ]
    }
   ],
   "source": [
    "# Set builder notation (comprehensions)\n",
    "A = {1, 2, 3, 4}\n",
    "B = {x**2 + 1 for x in A}\n",
    "print(B)\n",
    "C = {x for x in B if x < 15}\n",
    "print(C)"
   ]
  },
  {
   "cell_type": "markdown",
   "metadata": {
    "slideshow": {
     "slide_type": "subslide"
    }
   },
   "source": [
    "### Operations\n",
    "- Union: $A\\cup B$\n",
    "- Disjoint union: $A\\sqcup B$\n",
    "- Intersection: $A \\cap B$\n",
    "- Difference: $A\\setminus B$\n",
    "- Symmetric difference (delta): $A\\Delta B$\n",
    "- Power set: $2^A$ — set of all subsets of $A$\n",
    "- Set of subsets of fixed size $k$: $\\binom{A}{k}$"
   ]
  },
  {
   "cell_type": "code",
   "execution_count": 140,
   "metadata": {
    "slideshow": {
     "slide_type": "subslide"
    }
   },
   "outputs": [
    {
     "name": "stdout",
     "output_type": "stream",
     "text": [
      "{1, 2, 3, 4}\n",
      "{3, 4, 5, 6}\n",
      "{1, 2, 3, 4, 5, 6}\n",
      "{3, 4}\n",
      "{1, 2}\n"
     ]
    }
   ],
   "source": [
    "# How we do that in Python:\n",
    "A = {4, 2, 3, 4, 1, 3}\n",
    "print(A)\n",
    "B = {3, 4, 5, 6}\n",
    "print(B)\n",
    "print(A | B)\n",
    "print(A & B)\n",
    "print(A - B)"
   ]
  },
  {
   "cell_type": "code",
   "execution_count": 141,
   "metadata": {
    "hideOutput": false,
    "slideshow": {
     "slide_type": "subslide"
    }
   },
   "outputs": [
    {
     "name": "stdout",
     "output_type": "stream",
     "text": [
      "[(1, 2), (1, 3), (1, 4), (2, 3), (2, 4), (3, 4)]\n",
      "[(1, 2), (1, 3), (1, 4), (2, 1), (2, 3), (2, 4), (3, 1), (3, 2), (3, 4), (4, 1), (4, 2), (4, 3)]\n"
     ]
    }
   ],
   "source": [
    "from itertools import combinations\n",
    "print(list(combinations(A, 2)))\n",
    "\n",
    "from itertools import permutations\n",
    "print(list(permutations(A, 2)))"
   ]
  },
  {
   "cell_type": "markdown",
   "metadata": {
    "slideshow": {
     "slide_type": "subslide"
    }
   },
   "source": [
    "### Cartesian product\n",
    "$$A\\times B= \\{(a,\\,b)\\mid a\\in A,\\,b\\in B\\}$$"
   ]
  },
  {
   "cell_type": "code",
   "execution_count": 142,
   "metadata": {
    "slideshow": {
     "slide_type": "fragment"
    }
   },
   "outputs": [
    {
     "name": "stdout",
     "output_type": "stream",
     "text": [
      "((1, 4), (1, 5), (2, 4), (2, 5), (3, 4), (3, 5))\n"
     ]
    }
   ],
   "source": [
    "from itertools import product\n",
    "print(tuple( product({1, 2, 3}, {4, 5}) ))"
   ]
  },
  {
   "cell_type": "markdown",
   "metadata": {
    "slideshow": {
     "slide_type": "subslide"
    }
   },
   "source": [
    "### Cartesian power of a set\n",
    "$$A^n = \\underbrace{A\\times A\\times\\dots\\times A}_{n times}$$"
   ]
  },
  {
   "cell_type": "code",
   "execution_count": 143,
   "metadata": {
    "slideshow": {
     "slide_type": "fragment"
    }
   },
   "outputs": [
    {
     "name": "stdout",
     "output_type": "stream",
     "text": [
      "[(0, 0, 0), (0, 0, 1), (0, 1, 0), (0, 1, 1), (1, 0, 0), (1, 0, 1), (1, 1, 0), (1, 1, 1)]\n"
     ]
    }
   ],
   "source": [
    "print(list(product({0, 1}, repeat=3)))"
   ]
  },
  {
   "cell_type": "markdown",
   "metadata": {
    "slideshow": {
     "slide_type": "subslide"
    }
   },
   "source": [
    "### Sums and products over sets and sequences\n",
    "$$\\sum_{x \\in S} x^2\\quad\\quad \\sum_{i=1}^n a_i\\quad\\quad \\sum_{0\\le k\\le n} k\\quad\\quad \\prod_{0\\le k\\le n} k$$"
   ]
  },
  {
   "cell_type": "code",
   "execution_count": 144,
   "metadata": {
    "slideshow": {
     "slide_type": "subslide"
    }
   },
   "outputs": [
    {
     "name": "stdout",
     "output_type": "stream",
     "text": [
      "14\n"
     ]
    }
   ],
   "source": [
    "# Sums in Python\n",
    "S = {1, 2, 3}\n",
    "print( sum(x**2 for x in S) )"
   ]
  },
  {
   "cell_type": "code",
   "execution_count": 145,
   "metadata": {
    "slideshow": {
     "slide_type": "subslide"
    }
   },
   "outputs": [
    {
     "name": "stdout",
     "output_type": "stream",
     "text": [
      "24\n"
     ]
    }
   ],
   "source": [
    "# Products in Python\n",
    "from functools import reduce\n",
    "from operator import mul\n",
    "\n",
    "S = {1, 2, 3, 4}\n",
    "# Try this: S = set()\n",
    "print( reduce(mul, S) )"
   ]
  },
  {
   "cell_type": "code",
   "execution_count": 146,
   "metadata": {
    "slideshow": {
     "slide_type": "subslide"
    }
   },
   "outputs": [],
   "source": [
    "def prod(S):\n",
    "    return reduce(mul, S)"
   ]
  },
  {
   "cell_type": "code",
   "execution_count": 147,
   "metadata": {
    "slideshow": {
     "slide_type": "fragment"
    }
   },
   "outputs": [
    {
     "name": "stdout",
     "output_type": "stream",
     "text": [
      "24\n"
     ]
    }
   ],
   "source": [
    "S = {1, 2, 3, 4}\n",
    "print( prod(S) )"
   ]
  },
  {
   "cell_type": "markdown",
   "metadata": {
    "slideshow": {
     "slide_type": "subslide"
    }
   },
   "source": [
    "### Inclusion-exclusion principle\n",
    "$$\\begin{align}|A\\cup B\\cup C|&=|A|+|B|+|C|\\\\&-|A\\cap B|-|A\\cap C|-|B\\cap C|\\\\&+|A\\cap B\\cap C|\\end{align}$$"
   ]
  },
  {
   "cell_type": "code",
   "execution_count": 148,
   "metadata": {
    "hideCode": false,
    "slideshow": {
     "slide_type": "-"
    }
   },
   "outputs": [
    {
     "data": {
      "image/png": "[encoded data removed]",
      "text/plain": [
       "<Figure size 432x288 with 1 Axes>"
      ]
     },
     "metadata": {},
     "output_type": "display_data"
    }
   ],
   "source": [
    "# Don’t mind this code; I just needed it to draw a Venn diagram for the slides.\n",
    "import matplotlib.pyplot as plt\n",
    "from matplotlib_venn import venn3\n",
    "v = venn3(subsets=(1, 1, 1, 1, 1, 1, 1), set_labels = ('$A$', '$B$', '$C$'))\n",
    "for t in ['111', '100', '010', '001', '110', '101', '011']:\n",
    "    v.get_label_by_id(t).set_text(None)\n",
    "plt.show()"
   ]
  },
  {
   "cell_type": "markdown",
   "metadata": {
    "slideshow": {
     "slide_type": "slide"
    }
   },
   "source": [
    "# Counting\n",
    "Superficially, combinatorics is the branch of math devoted to counting, i.e. finding the cardinalities of properly defined finite sets."
   ]
  },
  {
   "cell_type": "markdown",
   "metadata": {
    "slideshow": {
     "slide_type": "subslide"
    }
   },
   "source": [
    "### A bunch of problems\n",
    "- How many five-digit numbers are there?\n",
    "- How many five-digit numbers are there that have all digits different?"
   ]
  },
  {
   "cell_type": "code",
   "execution_count": 149,
   "metadata": {
    "slideshow": {
     "slide_type": "fragment"
    }
   },
   "outputs": [
    {
     "name": "stdout",
     "output_type": "stream",
     "text": [
      "90000\n"
     ]
    }
   ],
   "source": [
    "five_digit_numbers = set(range(10000, 100000))\n",
    "print( len(five_digit_numbers) )"
   ]
  },
  {
   "cell_type": "code",
   "execution_count": 150,
   "metadata": {
    "slideshow": {
     "slide_type": "fragment"
    }
   },
   "outputs": [
    {
     "name": "stdout",
     "output_type": "stream",
     "text": [
      "27216\n"
     ]
    }
   ],
   "source": [
    "special_numbers = {n for n in five_digit_numbers if len(set(str(n))) == 5}\n",
    "print( len(special_numbers) )"
   ]
  }
 ],
 "metadata": {
  "kernelspec": {
   "display_name": "Python 3",
   "language": "python",
   "name": "python3"
  },
  "language_info": {
   "codemirror_mode": {
    "name": "ipython",
    "version": 3
   },
   "file_extension": ".py",
   "mimetype": "text/x-python",
   "name": "python",
   "nbconvert_exporter": "python",
   "pygments_lexer": "ipython3",
   "version": "3.6.7"
  }
 },
 "nbformat": 4,
 "nbformat_minor": 2
}
