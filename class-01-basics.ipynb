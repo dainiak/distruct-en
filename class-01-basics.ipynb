{
 "cells": [
  {
   "cell_type": "markdown",
   "metadata": {
    "slideshow": {
     "slide_type": "slide"
    }
   },
   "source": [
    "# Sets and Introduction to Python data structures"
   ]
  },
  {
   "cell_type": "markdown",
   "metadata": {
    "slideshow": {
     "slide_type": "subslide"
    }
   },
   "source": [
    "A *set* is an unordered collection of distinct elements.\n",
    "Synonyms: *family*, *collection*"
   ]
  },
  {
   "cell_type": "markdown",
   "metadata": {
    "slideshow": {
     "slide_type": "subslide"
    }
   },
   "source": [
    "### Notation\n",
    "- $\\{1,\\,2,\\,3,\\,4\\}$\n",
    "- $\\{1,\\,3,\\,5,\\,7,\\,\\dots,\\,29\\}$\n",
    "- $\\{1,\\,2,\\,3,\\,\\dots\\}$\n",
    "- $\\{x \\text{ is a positive multiple of three}\\}$\n",
    "- $\\mathbb{N}$, $\\mathbb{Z}$, $\\mathbb{Q}$, $\\mathbb{R}$, $\\mathbb{C}$, $\\mathbb{P}$\n",
    "- $\\{x\\in\\mathbb{N}\\mid x^2+3x \\text{ is prime}\\}$  — a “set builder notation”, or a “predicate notation”"
   ]
  },
  {
   "cell_type": "markdown",
   "metadata": {},
   "source": [
    "### Operations\n",
    "- Union: $A\\cup B$\n",
    "- Disjoint union: $A\\sqcup B$\n",
    "- Intersection: $A \\cap B$\n",
    "- Difference: $A\\setminus B$\n",
    "- Symmetric difference (delta): $A\\Delta B$\n",
    "- Power set: $2^A$"
   ]
  }
 ],
 "metadata": {
  "celltoolbar": "Slideshow",
  "kernelspec": {
   "display_name": "Python 3",
   "language": "python",
   "name": "python3"
  },
  "language_info": {
   "codemirror_mode": {
    "name": "ipython",
    "version": 3
   },
   "file_extension": ".py",
   "mimetype": "text/x-python",
   "name": "python",
   "nbconvert_exporter": "python",
   "pygments_lexer": "ipython3",
   "version": "3.6.7"
  }
 },
 "nbformat": 4,
 "nbformat_minor": 2
}
